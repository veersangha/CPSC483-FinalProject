{
  "cells": [
    {
      "cell_type": "markdown",
      "metadata": {
        "id": "view-in-github",
        "colab_type": "text"
      },
      "source": [
        "<a href=\"https://colab.research.google.com/github/veersangha/CPSC483-FinalProject/blob/main/CPSC_483_Demo.ipynb\" target=\"_parent\"><img src=\"https://colab.research.google.com/assets/colab-badge.svg\" alt=\"Open In Colab\"/></a>"
      ]
    },
    {
      "cell_type": "code",
      "execution_count": null,
      "metadata": {
        "colab": {
          "base_uri": "https://localhost:8080/"
        },
        "id": "QFRfqTqgf8Aj",
        "outputId": "f36ad3b1-a33b-4d1d-cea2-d8ae1ec55ca6"
      },
      "outputs": [
        {
          "output_type": "stream",
          "name": "stdout",
          "text": [
            "Using torch 1.13.0+cu116\n"
          ]
        }
      ],
      "source": [
        "# import the pytorch library into environment and check its version\n",
        "import os\n",
        "import torch\n",
        "print(\"Using torch\", torch.__version__)"
      ]
    },
    {
      "cell_type": "code",
      "execution_count": null,
      "metadata": {
        "colab": {
          "base_uri": "https://localhost:8080/",
          "height": 929
        },
        "id": "xSnd6g6ff_Xn",
        "outputId": "80faae04-181f-4c51-fa5b-ba31c48a1668"
      },
      "outputs": [
        {
          "output_type": "stream",
          "name": "stdout",
          "text": [
            "Looking in indexes: https://pypi.org/simple, https://us-python.pkg.dev/colab-wheels/public/simple/\n",
            "Looking in links: https://data.pyg.org/whl/torch-1.13.0+cu116.html\n",
            "Collecting torch-scatter\n",
            "  Downloading https://data.pyg.org/whl/torch-1.13.0%2Bcu116/torch_scatter-2.1.0%2Bpt113cu116-cp38-cp38-linux_x86_64.whl (9.4 MB)\n",
            "\u001b[K     |████████████████████████████████| 9.4 MB 41.2 MB/s \n",
            "\u001b[?25hCollecting torch-sparse\n",
            "  Downloading https://data.pyg.org/whl/torch-1.13.0%2Bcu116/torch_sparse-0.6.16%2Bpt113cu116-cp38-cp38-linux_x86_64.whl (4.5 MB)\n",
            "\u001b[K     |████████████████████████████████| 4.5 MB 64.5 MB/s \n",
            "\u001b[?25hCollecting torch-cluster\n",
            "  Downloading https://data.pyg.org/whl/torch-1.13.0%2Bcu116/torch_cluster-1.6.0%2Bpt113cu116-cp38-cp38-linux_x86_64.whl (3.2 MB)\n",
            "\u001b[K     |████████████████████████████████| 3.2 MB 65.9 MB/s \n",
            "\u001b[?25hCollecting torch-spline-conv\n",
            "  Downloading https://data.pyg.org/whl/torch-1.13.0%2Bcu116/torch_spline_conv-1.2.1%2Bpt113cu116-cp38-cp38-linux_x86_64.whl (873 kB)\n",
            "\u001b[K     |████████████████████████████████| 873 kB 65.3 MB/s \n",
            "\u001b[?25hCollecting torch-geometric\n",
            "  Downloading torch_geometric-2.2.0.tar.gz (564 kB)\n",
            "\u001b[K     |████████████████████████████████| 564 kB 25.1 MB/s \n",
            "\u001b[?25hRequirement already satisfied: scipy in /usr/local/lib/python3.8/dist-packages (from torch-sparse) (1.7.3)\n",
            "Requirement already satisfied: tqdm in /usr/local/lib/python3.8/dist-packages (from torch-geometric) (4.64.1)\n",
            "Requirement already satisfied: numpy in /usr/local/lib/python3.8/dist-packages (from torch-geometric) (1.21.6)\n",
            "Requirement already satisfied: jinja2 in /usr/local/lib/python3.8/dist-packages (from torch-geometric) (2.11.3)\n",
            "Requirement already satisfied: requests in /usr/local/lib/python3.8/dist-packages (from torch-geometric) (2.23.0)\n",
            "Requirement already satisfied: pyparsing in /usr/local/lib/python3.8/dist-packages (from torch-geometric) (3.0.9)\n",
            "Requirement already satisfied: scikit-learn in /usr/local/lib/python3.8/dist-packages (from torch-geometric) (1.0.2)\n",
            "Collecting psutil>=5.8.0\n",
            "  Downloading psutil-5.9.4-cp36-abi3-manylinux_2_12_x86_64.manylinux2010_x86_64.manylinux_2_17_x86_64.manylinux2014_x86_64.whl (280 kB)\n",
            "\u001b[K     |████████████████████████████████| 280 kB 76.8 MB/s \n",
            "\u001b[?25hRequirement already satisfied: MarkupSafe>=0.23 in /usr/local/lib/python3.8/dist-packages (from jinja2->torch-geometric) (2.0.1)\n",
            "Requirement already satisfied: urllib3!=1.25.0,!=1.25.1,<1.26,>=1.21.1 in /usr/local/lib/python3.8/dist-packages (from requests->torch-geometric) (1.24.3)\n",
            "Requirement already satisfied: certifi>=2017.4.17 in /usr/local/lib/python3.8/dist-packages (from requests->torch-geometric) (2022.12.7)\n",
            "Requirement already satisfied: idna<3,>=2.5 in /usr/local/lib/python3.8/dist-packages (from requests->torch-geometric) (2.10)\n",
            "Requirement already satisfied: chardet<4,>=3.0.2 in /usr/local/lib/python3.8/dist-packages (from requests->torch-geometric) (3.0.4)\n",
            "Requirement already satisfied: joblib>=0.11 in /usr/local/lib/python3.8/dist-packages (from scikit-learn->torch-geometric) (1.2.0)\n",
            "Requirement already satisfied: threadpoolctl>=2.0.0 in /usr/local/lib/python3.8/dist-packages (from scikit-learn->torch-geometric) (3.1.0)\n",
            "Building wheels for collected packages: torch-geometric\n",
            "  Building wheel for torch-geometric (setup.py) ... \u001b[?25l\u001b[?25hdone\n",
            "  Created wheel for torch-geometric: filename=torch_geometric-2.2.0-py3-none-any.whl size=773302 sha256=42ca6a7860c6b1aa204a7aec1602c83cbf4d52162578d5cedebc68a4fdf5317e\n",
            "  Stored in directory: /root/.cache/pip/wheels/59/a3/20/198928106d3169865ae73afcbd3d3d1796cf6b429b55c65378\n",
            "Successfully built torch-geometric\n",
            "Installing collected packages: psutil, torch-spline-conv, torch-sparse, torch-scatter, torch-geometric, torch-cluster\n",
            "  Attempting uninstall: psutil\n",
            "    Found existing installation: psutil 5.4.8\n",
            "    Uninstalling psutil-5.4.8:\n",
            "      Successfully uninstalled psutil-5.4.8\n",
            "Successfully installed psutil-5.9.4 torch-cluster-1.6.0+pt113cu116 torch-geometric-2.2.0 torch-scatter-2.1.0+pt113cu116 torch-sparse-0.6.16+pt113cu116 torch-spline-conv-1.2.1+pt113cu116\n"
          ]
        },
        {
          "output_type": "display_data",
          "data": {
            "application/vnd.colab-display-data+json": {
              "pip_warning": {
                "packages": [
                  "psutil"
                ]
              }
            }
          },
          "metadata": {}
        }
      ],
      "source": [
        "!pip install torch-scatter torch-sparse torch-cluster torch-spline-conv torch-geometric -f https://data.pyg.org/whl/torch-1.13.0+cu116.html"
      ]
    },
    {
      "cell_type": "code",
      "execution_count": null,
      "metadata": {
        "id": "KDbg6GUJgKCh"
      },
      "outputs": [],
      "source": [
        "# import torch_geometric.data into environment\n",
        "from torch_geometric.data import Dataset, Data, DataLoader\n",
        "import numpy as np\n",
        "import pandas as pd\n",
        "import os"
      ]
    },
    {
      "cell_type": "code",
      "execution_count": null,
      "metadata": {
        "id": "RtjG5ouMZ1ip"
      },
      "outputs": [],
      "source": [
        "from scipy.signal import resample\n",
        "from scipy.ndimage import median_filter"
      ]
    },
    {
      "cell_type": "markdown",
      "source": [
        "Instructions: \n",
        "Please take the 5 ECG examples and the ecg_df.csv that are in \"example data\" folder in the Github, and copy them (i.e. drag and drop) to the folder connected to this Colab --> They should be stored in the home directory, outside of the sample_data folder that is already populated automatically"
      ],
      "metadata": {
        "id": "e9m35NeYzyvc"
      }
    },
    {
      "cell_type": "code",
      "execution_count": null,
      "metadata": {
        "id": "V3xVDtYpnjYa"
      },
      "outputs": [],
      "source": [
        "# Read in the label file that we have downloaded from Github\n",
        "ecg_df = pd.read_csv('ecg_df.csv')"
      ]
    },
    {
      "cell_type": "code",
      "execution_count": null,
      "metadata": {
        "id": "hhHhEUiRl_na"
      },
      "outputs": [],
      "source": [
        "import numpy as np\n",
        "import matplotlib.mlab as mlab\n",
        "from scipy.signal import hilbert\n",
        "from sklearn.feature_selection import mutual_info_regression\n",
        "# As we discuss in the report, there are different ways to define edges, here we will demonstrate the fully connected method\n",
        "\n",
        "def gen_edges_cg(x):\n",
        "    \"\"\"\n",
        "    Generate edges based on complete graph\n",
        "    :param x: (T, C)\n",
        "    :return: edge_index: (2, C * C - C)\n",
        "    \"\"\"\n",
        "    samples, channels = x.shape\n",
        "    edge_index = [[i, j] for i in range(channels) for j in range(channels)\n",
        "                  if i != j]\n",
        "    edge_index = np.asarray(edge_index).T\n",
        "    return edge_index\n",
        "\n",
        "# Load the time series data as feature for each node\n",
        "def gen_features_raw(x):\n",
        "    \"\"\"\n",
        "    Generate node features using raw data.\n",
        "    :param x: (T, C)\n",
        "    \"\"\"\n",
        "    # x = x[range(0, x.shape[0], 2), :]\n",
        "    features = x.T\n",
        "    return features\n",
        "\n"
      ]
    },
    {
      "cell_type": "code",
      "execution_count": null,
      "metadata": {
        "id": "qTM7-MMklHix"
      },
      "outputs": [],
      "source": [
        "# This is the code to make our graph objects i.e. take the ECG data and labela and make it a graph which we load in during training\n",
        "def gen_data_list(data, label, edge_type='corr'):\n",
        "    \"\"\"\n",
        "    Generate graph data list from matrix data and label.\n",
        "    :param data: training or testing data in matrix form, shape: (N, T, C)\n",
        "    :param label: training or testing label in matrix form, shape: (N, )\n",
        "    :return: training or testing data list,\n",
        "             each item in this list is a torch_geometric.data.Data object.\n",
        "    \"\"\"\n",
        "    data_list = []\n",
        "    for trial in range(data.shape[0]):\n",
        "        trial_data = data[trial, ...]\n",
        "        trial_label = label[trial]\n",
        "        # generate edge index and node features, i have commented out the methods we aren't using in this demo\n",
        "        \n",
        "        '''\n",
        "        if edge_type == 'corr':\n",
        "            edge_index, edge_weight = gen_edges_corr(trial_data)\n",
        "        elif edge_type == 'mi':\n",
        "            edge_index, edge_weight = gen_edges_mi(trial_data)\n",
        "        '''\n",
        "        if edge_type == 'cg':\n",
        "            edge_index = gen_edges_cg(trial_data)\n",
        "            edge_weight = np.zeros((edge_index.shape[-1], 1))\n",
        "\n",
        "        x = gen_features_raw(trial_data)\n",
        "\n",
        "        edge_index = torch.from_numpy(edge_index).long()\n",
        "        edge_weight = torch.from_numpy(edge_weight).float()\n",
        "        x = torch.from_numpy(x).float()\n",
        "\n",
        "        graph_data = Data(x=x, edge_index=edge_index,\n",
        "                          y=trial_label, edge_attr=edge_weight)\n",
        "        data_list.append(graph_data)\n",
        "    return data_list\n",
        "\n",
        "\n"
      ]
    },
    {
      "cell_type": "code",
      "execution_count": null,
      "metadata": {
        "id": "Z3VSCMHd_y6U"
      },
      "outputs": [],
      "source": [
        "# Here we define the Data Loader so we can read in ECGs as we go. \n",
        "# We need to do this because we have thousands of ECGs we train on, which we cannot load into memory at once\n",
        "\n",
        "class EcgDataset(Dataset):\n",
        "  def __init__(self, root, filename, transform=None, pre_transform=None):\n",
        "    self.filename = filename\n",
        "    super(EcgDataset,self).__init__(root, transform, pre_transform)\n",
        "\n",
        "  @property\n",
        "  def raw_file_names(self):\n",
        "      return self.filename\n",
        "\n",
        "  @property\n",
        "  def processed_file_names(self):\n",
        "      self.data = pd.read_csv(self.raw_paths[0]).reset_index()\n",
        "      \n",
        "      return [f'data_{i}.pt' for i in list(self.data.index)]\n",
        "\n",
        "  def download(self):\n",
        "    pass\n",
        "\n",
        "  def process(self):\n",
        "      self.data = pd.read_csv(self.raw_paths[0])\n",
        "      for index,row in self.data.iterrows():\n",
        "          # Read data from `raw_path`.\n",
        "          #Load data and label\n",
        "          label = self._get_labels(row[\"Gender\"])\n",
        "          data_npy = np.load(self.root + '/'+row['FileID'])\n",
        "\n",
        "          # Take 5 seconds of data\n",
        "          data_npy = data_npy[:2500]\n",
        "\n",
        "          # Baseline Wander Correction\n",
        "          data_npy = data_npy - median_filter(data_npy,size=(500,1))\n",
        "\n",
        "          # Downsample\n",
        "          data_npy = resample(data_npy, 500, axis=0)\n",
        "          \n",
        "          data_npy =data_npy[:,0:12]\n",
        "          \n",
        "          # We create the graph objects using function defined above\n",
        "          data = gen_data_list(np.expand_dims(data_npy,0),label,edge_type='corr')\n",
        "          data = data[0]\n",
        "\n",
        "          if self.pre_filter is not None and not self.pre_filter(data):\n",
        "              continue\n",
        "\n",
        "          if self.pre_transform is not None:\n",
        "              data = self.pre_transform(data)\n",
        "\n",
        "          torch.save(data, os.path.join(self.processed_dir, \n",
        "                                 f'data_{index}.pt'))\n",
        "  def _get_labels(self, label):\n",
        "      label = np.asarray([label])\n",
        "      return torch.tensor(label, dtype=torch.int64)\n",
        "      \n",
        "  def len(self):\n",
        "      return len(self.processed_file_names)\n",
        "\n",
        "  def get(self, idx):\n",
        "      data = torch.load(os.path.join(self.processed_dir, f'data_{idx}.pt'))\n",
        "      return data\n"
      ]
    },
    {
      "cell_type": "code",
      "execution_count": null,
      "metadata": {
        "colab": {
          "base_uri": "https://localhost:8080/"
        },
        "id": "pL3yuIE_vgNL",
        "outputId": "bce77121-6228-4b26-e886-7bc5acd13cc5"
      },
      "outputs": [
        {
          "output_type": "stream",
          "name": "stdout",
          "text": [
            "mkdir: cannot create directory ‘processed’: File exists\n"
          ]
        },
        {
          "output_type": "stream",
          "name": "stderr",
          "text": [
            "Processing...\n",
            "Done!\n"
          ]
        }
      ],
      "source": [
        "# Set up the file paths so that data loader can access correctly\n",
        "!mkdir processed\n",
        "!mkdir raw\n",
        "!mv ecg_df.csv raw"
      ]
    },
    {
      "cell_type": "code",
      "source": [
        "# Now we run the data loader, which will actually process the raw npy files and create processed .pt files \n",
        "# in the newly ceated /processed folder\n",
        "# We will then access these newly created files when loading into the data loader\n",
        "ecg_df = 'ecg_df.csv'\n",
        "dataset = EcgDataset('.',ecg_df)"
      ],
      "metadata": {
        "id": "cKYwHJN60MZE"
      },
      "execution_count": null,
      "outputs": []
    },
    {
      "cell_type": "code",
      "execution_count": null,
      "metadata": {
        "id": "mFLoBLlUyt2g"
      },
      "outputs": [],
      "source": [
        "train_loader = DataLoader(dataset,batch_size=2,shuffle=False)"
      ]
    },
    {
      "cell_type": "code",
      "execution_count": null,
      "metadata": {
        "id": "Kf9SLoiYznkV"
      },
      "outputs": [],
      "source": [
        "# Here we will demonstrate pipeline with a very simple GCN\n",
        "from torch.nn import Linear\n",
        "import torch.nn.functional as F\n",
        "from torch_geometric.nn import GCNConv\n",
        "from torch_geometric.nn import global_mean_pool\n",
        "\n",
        "\n",
        "\n",
        "class GCN(torch.nn.Module):\n",
        "    def __init__(self, in_channels, hidden_channels, out_channels):\n",
        "        super(GCN, self).__init__()\n",
        "\n",
        "        self.conv1 = GCNConv(in_channels, hidden_channels)\n",
        "        self.conv2 = GCNConv(hidden_channels, hidden_channels)\n",
        "        self.linear1 = Linear(hidden_channels, out_channels)\n",
        "        self.linear2 = Linear(out_channels, 1)\n",
        "        self.relu = F.relu\n",
        "        self.sigmoid = torch.sigmoid\n",
        "\n",
        "    def forward(self, x, edge_index, batch):\n",
        "\n",
        "        output1 = self.conv2(self.relu(self.conv1(x, edge_index)), edge_index)\n",
        "        output2 = global_mean_pool(output1, batch)\n",
        "\n",
        "        output = self.sigmoid(self.linear2(self.relu(self.linear1(output2))))\n",
        "        return output"
      ]
    },
    {
      "cell_type": "code",
      "execution_count": null,
      "metadata": {
        "id": "y6zl6_HdgM3L"
      },
      "outputs": [],
      "source": [
        "model = GCN(in_channels=500, hidden_channels=64, out_channels=16)\n",
        "optimizer = torch.optim.Adam(model.parameters(), lr=0.001)"
      ]
    },
    {
      "cell_type": "code",
      "execution_count": null,
      "metadata": {
        "colab": {
          "base_uri": "https://localhost:8080/"
        },
        "id": "xKVKckI3ecDF",
        "outputId": "af91c319-45a4-4679-f572-7823e4ac528e"
      },
      "outputs": [
        {
          "output_type": "stream",
          "name": "stdout",
          "text": [
            "Looking in indexes: https://pypi.org/simple, https://us-python.pkg.dev/colab-wheels/public/simple/\n",
            "Collecting torchmetrics\n",
            "  Downloading torchmetrics-0.11.0-py3-none-any.whl (512 kB)\n",
            "\u001b[K     |████████████████████████████████| 512 kB 18.6 MB/s \n",
            "\u001b[?25hRequirement already satisfied: numpy>=1.17.2 in /usr/local/lib/python3.8/dist-packages (from torchmetrics) (1.21.6)\n",
            "Requirement already satisfied: packaging in /usr/local/lib/python3.8/dist-packages (from torchmetrics) (21.3)\n",
            "Requirement already satisfied: typing-extensions in /usr/local/lib/python3.8/dist-packages (from torchmetrics) (4.4.0)\n",
            "Requirement already satisfied: torch>=1.8.1 in /usr/local/lib/python3.8/dist-packages (from torchmetrics) (1.13.0+cu116)\n",
            "Requirement already satisfied: pyparsing!=3.0.5,>=2.0.2 in /usr/local/lib/python3.8/dist-packages (from packaging->torchmetrics) (3.0.9)\n",
            "Installing collected packages: torchmetrics\n",
            "Successfully installed torchmetrics-0.11.0\n"
          ]
        }
      ],
      "source": [
        "!pip install torchmetrics"
      ]
    },
    {
      "cell_type": "code",
      "execution_count": null,
      "metadata": {
        "id": "9DMT_GMWtkK_"
      },
      "outputs": [],
      "source": [
        "loss_func = torch.nn.BCELoss()\n",
        "from torchmetrics.classification import AUROC\n",
        "\n",
        "def train(model, loader, optimizer, loss_func):\n",
        "\n",
        "    loss = 0\n",
        "    model.train()\n",
        "    all_labels = []\n",
        "    all_preds = []\n",
        "    for i, data in enumerate(loader):\n",
        "      pred = model(data.x, data.edge_index, data.batch)\n",
        "      target = data.y\n",
        "      target = target.unsqueeze(1)\n",
        "      target = target.float()\n",
        "      loss = loss_func(pred, target)\n",
        "      loss.backward()\n",
        "      optimizer.step()\n",
        "      optimizer.zero_grad()\n",
        "      all_labels.append(target)\n",
        "      all_preds.append(pred)\n",
        "    all_labels = torch.flatten(torch.cat(all_labels))\n",
        "    all_preds = torch.flatten(torch.cat(all_preds))\n",
        "    print(f'True Labels: {all_labels}')\n",
        "    print(f'Predicted Labels: {all_preds}')\n",
        "    auroc = AUROC(task='binary')\n",
        "    auroc_score = auroc(all_labels,all_preds)\n",
        "\n",
        "    return model, auroc_score"
      ]
    },
    {
      "cell_type": "code",
      "execution_count": null,
      "metadata": {
        "id": "IC40zZxAuJjD"
      },
      "outputs": [],
      "source": [
        "def test(model, loader):\n",
        "    model.eval()\n",
        "\n",
        "    correct = 0\n",
        "    all_labels = []\n",
        "    all_preds = []\n",
        "    for data in loader:  # Iterate in batches over the training/test dataset.\n",
        "        out = model(data.x, data.edge_index, data.batch)  \n",
        "        target = data.y\n",
        "        target = target.unsqueeze(1)\n",
        "        target = target.float()\n",
        "\n",
        "        all_labels.append(target)\n",
        "        all_preds.append(out)\n",
        "    all_labels = torch.flatten(torch.cat(all_labels))\n",
        "    all_preds = torch.flatten(torch.cat(all_preds))\n",
        "    auroc = AUROC(task='binary')\n",
        "    auroc_score = auroc(all_labels,all_preds)    \n",
        "\n",
        "    return auroc_score  # Derive ratio of correct predictions."
      ]
    },
    {
      "cell_type": "markdown",
      "metadata": {
        "id": "7SUrstHGksU_"
      },
      "source": [
        "We will show training on this toy dataset for 10 epochs"
      ]
    },
    {
      "cell_type": "code",
      "execution_count": null,
      "metadata": {
        "colab": {
          "base_uri": "https://localhost:8080/"
        },
        "id": "VWgBmz1HuDTo",
        "outputId": "78b7bd8a-e1ec-4016-8eb8-2836da0fd927"
      },
      "outputs": [
        {
          "output_type": "stream",
          "name": "stdout",
          "text": [
            "True Labels: tensor([0., 1., 0., 0., 1.])\n",
            "Predicted Labels: tensor([4.1827e-10, 1.0000e+00, 1.1154e-11, 2.6577e-17, 1.0000e+00],\n",
            "       grad_fn=<ReshapeAliasBackward0>)\n",
            "Epoch: 001, Train AUC: 1.0000 Test AUC: 1.0000\n",
            "True Labels: tensor([0., 1., 0., 0., 1.])\n",
            "Predicted Labels: tensor([4.1826e-10, 1.0000e+00, 1.1055e-11, 2.6563e-17, 1.0000e+00],\n",
            "       grad_fn=<ReshapeAliasBackward0>)\n",
            "Epoch: 002, Train AUC: 1.0000 Test AUC: 1.0000\n",
            "True Labels: tensor([0., 1., 0., 0., 1.])\n",
            "Predicted Labels: tensor([4.1827e-10, 1.0000e+00, 1.0957e-11, 2.6548e-17, 1.0000e+00],\n",
            "       grad_fn=<ReshapeAliasBackward0>)\n",
            "Epoch: 003, Train AUC: 1.0000 Test AUC: 1.0000\n",
            "True Labels: tensor([0., 1., 0., 0., 1.])\n",
            "Predicted Labels: tensor([4.1826e-10, 1.0000e+00, 1.0860e-11, 2.6533e-17, 1.0000e+00],\n",
            "       grad_fn=<ReshapeAliasBackward0>)\n",
            "Epoch: 004, Train AUC: 1.0000 Test AUC: 1.0000\n",
            "True Labels: tensor([0., 1., 0., 0., 1.])\n",
            "Predicted Labels: tensor([4.1826e-10, 1.0000e+00, 1.0765e-11, 2.6519e-17, 1.0000e+00],\n",
            "       grad_fn=<ReshapeAliasBackward0>)\n",
            "Epoch: 005, Train AUC: 1.0000 Test AUC: 1.0000\n",
            "True Labels: tensor([0., 1., 0., 0., 1.])\n",
            "Predicted Labels: tensor([4.1826e-10, 1.0000e+00, 1.0671e-11, 2.6504e-17, 1.0000e+00],\n",
            "       grad_fn=<ReshapeAliasBackward0>)\n",
            "Epoch: 006, Train AUC: 1.0000 Test AUC: 1.0000\n",
            "True Labels: tensor([0., 1., 0., 0., 1.])\n",
            "Predicted Labels: tensor([4.1826e-10, 1.0000e+00, 1.0578e-11, 2.6490e-17, 1.0000e+00],\n",
            "       grad_fn=<ReshapeAliasBackward0>)\n",
            "Epoch: 007, Train AUC: 1.0000 Test AUC: 1.0000\n",
            "True Labels: tensor([0., 1., 0., 0., 1.])\n",
            "Predicted Labels: tensor([4.1826e-10, 1.0000e+00, 1.0487e-11, 2.6475e-17, 1.0000e+00],\n",
            "       grad_fn=<ReshapeAliasBackward0>)\n",
            "Epoch: 008, Train AUC: 1.0000 Test AUC: 1.0000\n",
            "True Labels: tensor([0., 1., 0., 0., 1.])\n",
            "Predicted Labels: tensor([4.1826e-10, 1.0000e+00, 1.0397e-11, 2.6461e-17, 1.0000e+00],\n",
            "       grad_fn=<ReshapeAliasBackward0>)\n",
            "Epoch: 009, Train AUC: 1.0000 Test AUC: 1.0000\n"
          ]
        }
      ],
      "source": [
        "epochs = 10\n",
        "\n",
        "for epoch in range(1, epochs):\n",
        "    model,train_auroc = train(model, train_loader, optimizer, loss_func)\n",
        "    test_auroc = test(model, train_loader)\n",
        "    print(f'Epoch: {epoch:03d}, Train AUC: {train_auroc:.4f} Test AUC: {test_auroc:.4f}')"
      ]
    }
  ],
  "metadata": {
    "accelerator": "GPU",
    "colab": {
      "provenance": [],
      "include_colab_link": true
    },
    "gpuClass": "standard",
    "kernelspec": {
      "display_name": "Python 3",
      "name": "python3"
    },
    "language_info": {
      "name": "python"
    }
  },
  "nbformat": 4,
  "nbformat_minor": 0
}